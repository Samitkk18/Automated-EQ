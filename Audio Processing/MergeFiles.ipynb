{
 "cells": [
  {
   "cell_type": "code",
   "execution_count": 1,
   "metadata": {},
   "outputs": [],
   "source": [
    "import os\n",
    "import pandas as pd"
   ]
  },
  {
   "cell_type": "code",
   "execution_count": 2,
   "metadata": {},
   "outputs": [],
   "source": [
    "file_paths = [os.path.join('Featuresets1', i) for i in os.listdir('Featuresets1')]\n",
    "data_set = 'dataset.csv'\n",
    "file_data =[]\n",
    "for file in file_paths:\n",
    "    file_data.append(pd.read_csv(file))\n",
    "dataset = pd.DataFrame()\n",
    "for each_data in file_data:\n",
    "    dataset = dataset.append(each_data, ignore_index=True)\n",
    "dataset.to_csv(data_set, index=False)\n"
   ]
  }
 ],
 "metadata": {
  "interpreter": {
   "hash": "59ef0248c7865b7f47927895003834d5696c5253e45d8d478f9bee9db86798bf"
  },
  "kernelspec": {
   "display_name": "Python 3.8.6 64-bit ('env': venv)",
   "language": "python",
   "name": "python3"
  },
  "language_info": {
   "codemirror_mode": {
    "name": "ipython",
    "version": 3
   },
   "file_extension": ".py",
   "mimetype": "text/x-python",
   "name": "python",
   "nbconvert_exporter": "python",
   "pygments_lexer": "ipython3",
   "version": "3.8.6"
  },
  "orig_nbformat": 4
 },
 "nbformat": 4,
 "nbformat_minor": 2
}
