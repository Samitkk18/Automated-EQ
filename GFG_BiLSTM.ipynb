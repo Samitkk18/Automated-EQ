{
  "nbformat": 4,
  "nbformat_minor": 0,
  "metadata": {
    "colab": {
      "name": "GFG_BiLSTM.ipynb",
      "provenance": [],
      "mount_file_id": "1qhasw_bJXrpae_0Uja8xM3cqwifku81S",
      "authorship_tag": "ABX9TyMha7jvTIOebmCwubzkTOcy",
      "include_colab_link": true
    },
    "kernelspec": {
      "name": "python3",
      "display_name": "Python 3"
    },
    "language_info": {
      "name": "python"
    },
    "accelerator": "GPU"
  },
  "cells": [
    {
      "cell_type": "markdown",
      "metadata": {
        "id": "view-in-github",
        "colab_type": "text"
      },
      "source": [
        "<a href=\"https://colab.research.google.com/github/VirangParekh/Automated-EQ/blob/main/GFG_BiLSTM.ipynb\" target=\"_parent\"><img src=\"https://colab.research.google.com/assets/colab-badge.svg\" alt=\"Open In Colab\"/></a>"
      ]
    },
    {
      "cell_type": "code",
      "metadata": {
        "id": "yuaa7gSvnS0q"
      },
      "source": [
        "import tensorflow as tf\n",
        "\n",
        "from tensorflow.keras.preprocessing.sequence import pad_sequences\n",
        "from tensorflow.keras.layers import Embedding, LSTM, Dense, Bidirectional\n",
        "from tensorflow.keras.preprocessing.text import Tokenizer\n",
        "from tensorflow.keras.models import Sequential\n",
        "from tensorflow.keras.optimizers import Adam\n",
        "import numpy as np \n",
        "import pandas as pd\n",
        "from tensorflow.python.keras import regularizers"
      ],
      "execution_count": null,
      "outputs": []
    },
    {
      "cell_type": "code",
      "metadata": {
        "id": "54j1F0k1qeYK"
      },
      "source": [
        "vocab_size = 10000\n",
        "embedding_dim = 64 #size of embeddig vector\n",
        "max_length = 100\n",
        "trunc_type='post'\n",
        "padding_type='post'\n",
        "oov_tok = \"<OOV>\"\n",
        "training_size = 5300 "
      ],
      "execution_count": null,
      "outputs": []
    },
    {
      "cell_type": "code",
      "metadata": {
        "colab": {
          "base_uri": "https://localhost:8080/",
          "height": 417
        },
        "id": "RKxcQkbfnxd9",
        "outputId": "c1c57480-9b4e-4bed-ad28-ab473d3b2f0f"
      },
      "source": [
        "df=pd.read_csv('/content/drive/MyDrive/BE Project/Dataset/isear.csv',header=None)\n",
        "# The isear.csv contains rows with value 'No response'\n",
        "# We need to remove such rows\n",
        "df.drop(df[df[1] == '[ No response.]'].index, inplace = True)\n",
        "df"
      ],
      "execution_count": null,
      "outputs": [
        {
          "output_type": "execute_result",
          "data": {
            "text/html": [
              "<div>\n",
              "<style scoped>\n",
              "    .dataframe tbody tr th:only-of-type {\n",
              "        vertical-align: middle;\n",
              "    }\n",
              "\n",
              "    .dataframe tbody tr th {\n",
              "        vertical-align: top;\n",
              "    }\n",
              "\n",
              "    .dataframe thead th {\n",
              "        text-align: right;\n",
              "    }\n",
              "</style>\n",
              "<table border=\"1\" class=\"dataframe\">\n",
              "  <thead>\n",
              "    <tr style=\"text-align: right;\">\n",
              "      <th></th>\n",
              "      <th>0</th>\n",
              "      <th>1</th>\n",
              "    </tr>\n",
              "  </thead>\n",
              "  <tbody>\n",
              "    <tr>\n",
              "      <th>0</th>\n",
              "      <td>joy</td>\n",
              "      <td>[ On days when I feel close to my partner and ...</td>\n",
              "    </tr>\n",
              "    <tr>\n",
              "      <th>1</th>\n",
              "      <td>fear</td>\n",
              "      <td>Every time I imagine that someone I love or I ...</td>\n",
              "    </tr>\n",
              "    <tr>\n",
              "      <th>2</th>\n",
              "      <td>anger</td>\n",
              "      <td>When I had been obviously unjustly treated and...</td>\n",
              "    </tr>\n",
              "    <tr>\n",
              "      <th>3</th>\n",
              "      <td>sadness</td>\n",
              "      <td>When I think about the short time that we live...</td>\n",
              "    </tr>\n",
              "    <tr>\n",
              "      <th>4</th>\n",
              "      <td>disgust</td>\n",
              "      <td>At a gathering I found myself involuntarily si...</td>\n",
              "    </tr>\n",
              "    <tr>\n",
              "      <th>...</th>\n",
              "      <td>...</td>\n",
              "      <td>...</td>\n",
              "    </tr>\n",
              "    <tr>\n",
              "      <th>7647</th>\n",
              "      <td>anger</td>\n",
              "      <td>Two years back someone invited me to be the tu...</td>\n",
              "    </tr>\n",
              "    <tr>\n",
              "      <th>7648</th>\n",
              "      <td>sadness</td>\n",
              "      <td>I had taken the responsibility to do something...</td>\n",
              "    </tr>\n",
              "    <tr>\n",
              "      <th>7649</th>\n",
              "      <td>disgust</td>\n",
              "      <td>I was at home and I heard a loud sound of spit...</td>\n",
              "    </tr>\n",
              "    <tr>\n",
              "      <th>7650</th>\n",
              "      <td>shame</td>\n",
              "      <td>I did not do the homework that the teacher had...</td>\n",
              "    </tr>\n",
              "    <tr>\n",
              "      <th>7651</th>\n",
              "      <td>guilt</td>\n",
              "      <td>I had shouted at my younger brother and he was...</td>\n",
              "    </tr>\n",
              "  </tbody>\n",
              "</table>\n",
              "<p>7575 rows × 2 columns</p>\n",
              "</div>"
            ],
            "text/plain": [
              "            0                                                  1\n",
              "0         joy  [ On days when I feel close to my partner and ...\n",
              "1        fear  Every time I imagine that someone I love or I ...\n",
              "2       anger  When I had been obviously unjustly treated and...\n",
              "3     sadness  When I think about the short time that we live...\n",
              "4     disgust  At a gathering I found myself involuntarily si...\n",
              "...       ...                                                ...\n",
              "7647    anger  Two years back someone invited me to be the tu...\n",
              "7648  sadness  I had taken the responsibility to do something...\n",
              "7649  disgust  I was at home and I heard a loud sound of spit...\n",
              "7650    shame  I did not do the homework that the teacher had...\n",
              "7651    guilt  I had shouted at my younger brother and he was...\n",
              "\n",
              "[7575 rows x 2 columns]"
            ]
          },
          "metadata": {},
          "execution_count": 3
        }
      ]
    },
    {
      "cell_type": "code",
      "metadata": {
        "id": "T4lGc3Xb0dSD"
      },
      "source": [
        "# from sklearn.preprocessing import LabelBinarizer\n",
        "# print(df[0].unique())\n",
        "# from sklearn.preprocessing import OneHotEncoder\n",
        "# enc = OneHotEncoder(handle_unknown='ignore')\n",
        "# df[0] = enc.fit_transform(np.array(df[0]).reshape(-1,1)).toarray()\n",
        "# df[0].unique()"
      ],
      "execution_count": null,
      "outputs": []
    },
    {
      "cell_type": "code",
      "metadata": {
        "id": "VY4yAo1mraUz",
        "colab": {
          "base_uri": "https://localhost:8080/"
        },
        "outputId": "a5ae89aa-d570-4c78-f02c-311d84c1967e"
      },
      "source": [
        "sentences = df[1].tolist()\n",
        "# labels = df[0].tolist()\n",
        "# Hot Encodig\n",
        "from sklearn.preprocessing import LabelBinarizer\n",
        "labels = LabelBinarizer().fit_transform(df[0])\n",
        "labels"
      ],
      "execution_count": null,
      "outputs": [
        {
          "output_type": "execute_result",
          "data": {
            "text/plain": [
              "array([[0, 0, 0, ..., 1, 0, 0],\n",
              "       [0, 0, 1, ..., 0, 0, 0],\n",
              "       [1, 0, 0, ..., 0, 0, 0],\n",
              "       ...,\n",
              "       [0, 1, 0, ..., 0, 0, 0],\n",
              "       [0, 0, 0, ..., 0, 0, 1],\n",
              "       [0, 0, 0, ..., 0, 0, 0]])"
            ]
          },
          "metadata": {},
          "execution_count": 5
        }
      ]
    },
    {
      "cell_type": "code",
      "metadata": {
        "id": "k-r775gisHba"
      },
      "source": [
        "# training_sentences = sentences[0:training_size]\n",
        "# testing_sentences = sentences[training_size:]\n",
        "# training_labels = labels[0:training_size]\n",
        "# testing_labels = labels[training_size:]\n",
        "\n",
        "# testing_labels = tf.keras.utils.to_categorical(testing_labels, num_classes=7)"
      ],
      "execution_count": null,
      "outputs": []
    },
    {
      "cell_type": "code",
      "metadata": {
        "id": "Rs_VcYfVA7_Z"
      },
      "source": [
        "from sklearn.model_selection import train_test_split\n",
        "training_sentences, testing_sentences, training_labels, testing_labels \\\n",
        "        = train_test_split(sentences, labels, test_size=0.2, random_state=32)"
      ],
      "execution_count": null,
      "outputs": []
    },
    {
      "cell_type": "code",
      "metadata": {
        "id": "-VmLLqCSsaIL"
      },
      "source": [
        "tokenizer = Tokenizer(oov_token=oov_tok)\n",
        "tokenizer.fit_on_texts(training_sentences)\n",
        "\n",
        "#saving the tokens in the variable\n",
        "word_index = tokenizer.word_index\n",
        "\n",
        "training_sequences = tokenizer.texts_to_sequences(training_sentences)\n",
        "training_padded = pad_sequences(training_sequences, maxlen=max_length, padding=padding_type, truncating=trunc_type)\n",
        "\n",
        "testing_sequences = tokenizer.texts_to_sequences(testing_sentences)\n",
        "testing_padded = pad_sequences(testing_sequences, maxlen=max_length, padding=padding_type, truncating=trunc_type)"
      ],
      "execution_count": null,
      "outputs": []
    },
    {
      "cell_type": "code",
      "metadata": {
        "id": "-UnXaOMIsx_J"
      },
      "source": [
        "# Need this block to get it to work with TensorFlow 2.x\n",
        "training_padded = np.array(training_padded)\n",
        "training_labels = np.array(training_labels)\n",
        "testing_padded = np.array(testing_padded)\n",
        "testing_labels = np.array(testing_labels)"
      ],
      "execution_count": null,
      "outputs": []
    },
    {
      "cell_type": "code",
      "metadata": {
        "id": "bIbd-hnys6Yy"
      },
      "source": [
        "from keras.layers import Activation, Dense, Dropout\n",
        "\n",
        "# model = tf.keras.Sequential([                            \n",
        "#     tf.keras.layers.Embedding(vocab_size, embedding_dim, input_length=max_length),\n",
        "#     tf.keras.layers.GlobalAveragePooling1D(),\n",
        "#     tf.keras.layers.Dense(24, activation='relu'),\n",
        "#     tf.keras.layers.Dense(1, activation='sigmoid')\n",
        "# ])\n",
        "# model.compile(loss='binary_crossentropy',optimizer='adam',metrics=['accuracy'])\n",
        "\n",
        "model = Sequential()\n",
        "model.add(Embedding(vocab_size, 100, input_length=100,embeddings_regularizer=regularizers.l2(0.001)))\n",
        "model.add(Bidirectional(LSTM(200,kernel_regularizer=regularizers.l2(0.001)))) #,kernel_regularizer=regularizers.l2(0.1)\n",
        "model.add(Dropout(0.5))\n",
        "model.add(Dense(7, activation='softmax')) #,kernel_regularizer=regularizers.l2(0.1)\n",
        "adam = Adam(learning_rate=0.01)\n",
        "model.compile(loss='categorical_crossentropy', optimizer=adam, metrics=['accuracy'])"
      ],
      "execution_count": null,
      "outputs": []
    },
    {
      "cell_type": "code",
      "metadata": {
        "colab": {
          "base_uri": "https://localhost:8080/"
        },
        "id": "AkD2hZGTuiEo",
        "outputId": "91ccfb81-2dda-4020-ef0b-8ae50297d66a"
      },
      "source": [
        "model.summary()"
      ],
      "execution_count": null,
      "outputs": [
        {
          "output_type": "stream",
          "name": "stdout",
          "text": [
            "Model: \"sequential\"\n",
            "_________________________________________________________________\n",
            "Layer (type)                 Output Shape              Param #   \n",
            "=================================================================\n",
            "embedding (Embedding)        (None, 100, 100)          1000000   \n",
            "_________________________________________________________________\n",
            "bidirectional (Bidirectional (None, 400)               481600    \n",
            "_________________________________________________________________\n",
            "dropout (Dropout)            (None, 400)               0         \n",
            "_________________________________________________________________\n",
            "dense (Dense)                (None, 7)                 2807      \n",
            "=================================================================\n",
            "Total params: 1,484,407\n",
            "Trainable params: 1,484,407\n",
            "Non-trainable params: 0\n",
            "_________________________________________________________________\n"
          ]
        }
      ]
    },
    {
      "cell_type": "code",
      "metadata": {
        "colab": {
          "base_uri": "https://localhost:8080/"
        },
        "id": "Fu3bXn2qu3Mx",
        "outputId": "a3eaa1eb-63ed-4528-a44b-50af354e6e90"
      },
      "source": [
        "num_epochs = 100\n",
        "# hello there \n",
        "history = model.fit(training_padded, training_labels, epochs=num_epochs, validation_data=(testing_padded, testing_labels), verbose=1)"
      ],
      "execution_count": null,
      "outputs": [
        {
          "output_type": "stream",
          "name": "stdout",
          "text": [
            "Epoch 1/100\n",
            "190/190 [==============================] - 10s 55ms/step - loss: 1.9342 - accuracy: 0.2814 - val_loss: 1.8888 - val_accuracy: 0.3347\n",
            "Epoch 2/100\n",
            "190/190 [==============================] - 10s 53ms/step - loss: 1.9276 - accuracy: 0.3038 - val_loss: 1.9402 - val_accuracy: 0.3353\n",
            "Epoch 3/100\n",
            "190/190 [==============================] - 10s 54ms/step - loss: 2.0081 - accuracy: 0.3330 - val_loss: 1.9857 - val_accuracy: 0.3274\n",
            "Epoch 4/100\n",
            "190/190 [==============================] - 10s 54ms/step - loss: 1.8948 - accuracy: 0.3563 - val_loss: 1.9260 - val_accuracy: 0.3558\n",
            "Epoch 5/100\n",
            "190/190 [==============================] - 10s 53ms/step - loss: 1.9058 - accuracy: 0.3691 - val_loss: 1.9417 - val_accuracy: 0.3960\n",
            "Epoch 6/100\n",
            "190/190 [==============================] - 10s 53ms/step - loss: 1.8620 - accuracy: 0.3817 - val_loss: 1.8285 - val_accuracy: 0.3650\n",
            "Epoch 7/100\n",
            "190/190 [==============================] - 10s 53ms/step - loss: 1.8041 - accuracy: 0.4076 - val_loss: 1.8873 - val_accuracy: 0.3993\n",
            "Epoch 8/100\n",
            "190/190 [==============================] - 10s 53ms/step - loss: 1.8218 - accuracy: 0.4340 - val_loss: 1.7737 - val_accuracy: 0.4238\n",
            "Epoch 9/100\n",
            "190/190 [==============================] - 10s 53ms/step - loss: 1.7925 - accuracy: 0.4472 - val_loss: 1.8324 - val_accuracy: 0.4350\n",
            "Epoch 10/100\n",
            "190/190 [==============================] - 10s 53ms/step - loss: 1.7606 - accuracy: 0.4543 - val_loss: 1.9042 - val_accuracy: 0.4310\n",
            "Epoch 11/100\n",
            "190/190 [==============================] - 10s 53ms/step - loss: 1.7786 - accuracy: 0.4693 - val_loss: 1.9928 - val_accuracy: 0.3921\n",
            "Epoch 12/100\n",
            "190/190 [==============================] - 10s 53ms/step - loss: 1.7972 - accuracy: 0.4800 - val_loss: 1.8707 - val_accuracy: 0.4528\n",
            "Epoch 13/100\n",
            "190/190 [==============================] - 10s 53ms/step - loss: 1.7556 - accuracy: 0.4848 - val_loss: 1.8871 - val_accuracy: 0.4607\n",
            "Epoch 14/100\n",
            "190/190 [==============================] - 10s 54ms/step - loss: 1.7765 - accuracy: 0.4901 - val_loss: 1.7882 - val_accuracy: 0.4647\n",
            "Epoch 15/100\n",
            "190/190 [==============================] - 10s 53ms/step - loss: 1.7607 - accuracy: 0.5007 - val_loss: 1.8613 - val_accuracy: 0.4449\n",
            "Epoch 16/100\n",
            "190/190 [==============================] - 10s 53ms/step - loss: 1.7269 - accuracy: 0.5158 - val_loss: 1.9539 - val_accuracy: 0.4759\n",
            "Epoch 17/100\n",
            "190/190 [==============================] - 10s 53ms/step - loss: 1.7495 - accuracy: 0.5216 - val_loss: 2.0063 - val_accuracy: 0.4825\n",
            "Epoch 18/100\n",
            "190/190 [==============================] - 10s 53ms/step - loss: 1.7261 - accuracy: 0.5317 - val_loss: 1.9537 - val_accuracy: 0.4627\n",
            "Epoch 19/100\n",
            "190/190 [==============================] - 10s 53ms/step - loss: 1.9524 - accuracy: 0.4828 - val_loss: 1.8706 - val_accuracy: 0.4851\n",
            "Epoch 20/100\n",
            "190/190 [==============================] - 10s 53ms/step - loss: 1.6945 - accuracy: 0.5297 - val_loss: 1.7969 - val_accuracy: 0.5050\n",
            "Epoch 21/100\n",
            "190/190 [==============================] - 10s 53ms/step - loss: 1.6828 - accuracy: 0.5545 - val_loss: 1.8863 - val_accuracy: 0.4957\n",
            "Epoch 22/100\n",
            "190/190 [==============================] - 10s 53ms/step - loss: 1.6252 - accuracy: 0.5695 - val_loss: 1.9968 - val_accuracy: 0.4752\n",
            "Epoch 23/100\n",
            "190/190 [==============================] - 10s 53ms/step - loss: 1.6136 - accuracy: 0.5932 - val_loss: 1.9466 - val_accuracy: 0.4970\n",
            "Epoch 24/100\n",
            "190/190 [==============================] - 10s 53ms/step - loss: 1.6250 - accuracy: 0.5886 - val_loss: 1.9129 - val_accuracy: 0.4997\n",
            "Epoch 25/100\n",
            "190/190 [==============================] - 10s 53ms/step - loss: 1.6341 - accuracy: 0.6015 - val_loss: 1.9521 - val_accuracy: 0.5168\n",
            "Epoch 26/100\n",
            "190/190 [==============================] - 10s 53ms/step - loss: 1.6397 - accuracy: 0.6045 - val_loss: 1.9230 - val_accuracy: 0.5096\n",
            "Epoch 27/100\n",
            "190/190 [==============================] - 10s 53ms/step - loss: 1.6137 - accuracy: 0.6170 - val_loss: 1.8941 - val_accuracy: 0.5333\n",
            "Epoch 28/100\n",
            "190/190 [==============================] - 10s 53ms/step - loss: 1.6827 - accuracy: 0.6256 - val_loss: 2.1921 - val_accuracy: 0.4990\n",
            "Epoch 29/100\n",
            "190/190 [==============================] - 10s 53ms/step - loss: 1.8035 - accuracy: 0.6206 - val_loss: 2.0545 - val_accuracy: 0.5360\n",
            "Epoch 30/100\n",
            "190/190 [==============================] - 10s 53ms/step - loss: 1.6050 - accuracy: 0.6419 - val_loss: 2.1272 - val_accuracy: 0.5043\n",
            "Epoch 31/100\n",
            "190/190 [==============================] - 10s 53ms/step - loss: 1.5458 - accuracy: 0.6510 - val_loss: 1.9080 - val_accuracy: 0.5254\n",
            "Epoch 32/100\n",
            "190/190 [==============================] - 10s 54ms/step - loss: 1.5630 - accuracy: 0.6505 - val_loss: 2.0020 - val_accuracy: 0.5083\n",
            "Epoch 33/100\n",
            "190/190 [==============================] - 10s 53ms/step - loss: 1.5905 - accuracy: 0.6670 - val_loss: 2.1084 - val_accuracy: 0.5162\n",
            "Epoch 34/100\n",
            "190/190 [==============================] - 10s 53ms/step - loss: 1.6211 - accuracy: 0.6647 - val_loss: 2.1217 - val_accuracy: 0.5215\n",
            "Epoch 35/100\n",
            "190/190 [==============================] - 10s 53ms/step - loss: 1.6575 - accuracy: 0.6647 - val_loss: 2.0619 - val_accuracy: 0.5149\n",
            "Epoch 36/100\n",
            "190/190 [==============================] - 10s 53ms/step - loss: 1.5290 - accuracy: 0.6792 - val_loss: 1.9590 - val_accuracy: 0.5248\n",
            "Epoch 37/100\n",
            "190/190 [==============================] - 10s 54ms/step - loss: 1.5845 - accuracy: 0.6833 - val_loss: 2.1338 - val_accuracy: 0.5314\n",
            "Epoch 38/100\n",
            "190/190 [==============================] - 10s 53ms/step - loss: 1.5298 - accuracy: 0.6947 - val_loss: 2.0781 - val_accuracy: 0.5300\n",
            "Epoch 39/100\n",
            "190/190 [==============================] - 10s 54ms/step - loss: 1.5754 - accuracy: 0.6944 - val_loss: 2.1756 - val_accuracy: 0.5102\n",
            "Epoch 40/100\n",
            "190/190 [==============================] - 10s 54ms/step - loss: 1.4829 - accuracy: 0.7026 - val_loss: 2.1133 - val_accuracy: 0.5234\n",
            "Epoch 41/100\n",
            "190/190 [==============================] - 10s 53ms/step - loss: 1.5649 - accuracy: 0.7020 - val_loss: 2.1422 - val_accuracy: 0.5432\n",
            "Epoch 42/100\n",
            "190/190 [==============================] - 10s 53ms/step - loss: 1.5967 - accuracy: 0.7114 - val_loss: 2.4003 - val_accuracy: 0.5195\n",
            "Epoch 43/100\n",
            "190/190 [==============================] - 10s 54ms/step - loss: 1.7097 - accuracy: 0.7092 - val_loss: 2.3246 - val_accuracy: 0.5314\n",
            "Epoch 44/100\n",
            "190/190 [==============================] - 10s 53ms/step - loss: 1.7275 - accuracy: 0.6982 - val_loss: 2.3273 - val_accuracy: 0.5182\n",
            "Epoch 45/100\n",
            "190/190 [==============================] - 10s 53ms/step - loss: 1.5665 - accuracy: 0.7162 - val_loss: 2.2719 - val_accuracy: 0.5287\n",
            "Epoch 46/100\n",
            "190/190 [==============================] - 10s 53ms/step - loss: 1.7386 - accuracy: 0.7005 - val_loss: 2.6146 - val_accuracy: 0.5267\n",
            "Epoch 47/100\n",
            "190/190 [==============================] - 10s 53ms/step - loss: 1.5489 - accuracy: 0.7249 - val_loss: 2.2798 - val_accuracy: 0.5446\n",
            "Epoch 48/100\n",
            "190/190 [==============================] - 10s 53ms/step - loss: 1.4011 - accuracy: 0.7426 - val_loss: 2.2504 - val_accuracy: 0.5419\n",
            "Epoch 49/100\n",
            "190/190 [==============================] - 10s 54ms/step - loss: 1.5490 - accuracy: 0.7297 - val_loss: 2.2473 - val_accuracy: 0.5327\n",
            "Epoch 50/100\n",
            "190/190 [==============================] - 10s 53ms/step - loss: 1.4896 - accuracy: 0.7431 - val_loss: 2.3350 - val_accuracy: 0.5294\n",
            "Epoch 51/100\n",
            "190/190 [==============================] - 10s 53ms/step - loss: 1.6678 - accuracy: 0.7360 - val_loss: 2.3448 - val_accuracy: 0.5340\n",
            "Epoch 52/100\n",
            "190/190 [==============================] - 10s 53ms/step - loss: 1.5273 - accuracy: 0.7464 - val_loss: 2.2546 - val_accuracy: 0.5498\n",
            "Epoch 53/100\n",
            "190/190 [==============================] - 10s 53ms/step - loss: 1.4439 - accuracy: 0.7601 - val_loss: 2.3928 - val_accuracy: 0.5294\n",
            "Epoch 54/100\n",
            "190/190 [==============================] - 10s 53ms/step - loss: 1.5213 - accuracy: 0.7533 - val_loss: 3.2197 - val_accuracy: 0.4891\n",
            "Epoch 55/100\n",
            "190/190 [==============================] - 10s 52ms/step - loss: 3.9811 - accuracy: 0.5246 - val_loss: 2.7968 - val_accuracy: 0.5327\n",
            "Epoch 56/100\n",
            "190/190 [==============================] - 10s 53ms/step - loss: 1.7929 - accuracy: 0.6916 - val_loss: 2.1821 - val_accuracy: 0.5307\n",
            "Epoch 57/100\n",
            "190/190 [==============================] - 10s 53ms/step - loss: 1.4021 - accuracy: 0.7335 - val_loss: 2.1587 - val_accuracy: 0.5505\n",
            "Epoch 58/100\n",
            "190/190 [==============================] - 10s 53ms/step - loss: 1.3759 - accuracy: 0.7576 - val_loss: 2.3045 - val_accuracy: 0.5512\n",
            "Epoch 59/100\n",
            "190/190 [==============================] - 10s 53ms/step - loss: 1.3790 - accuracy: 0.7589 - val_loss: 2.2942 - val_accuracy: 0.5221\n",
            "Epoch 60/100\n",
            "190/190 [==============================] - 10s 54ms/step - loss: 1.4803 - accuracy: 0.7550 - val_loss: 2.4713 - val_accuracy: 0.5366\n",
            "Epoch 61/100\n",
            "190/190 [==============================] - 10s 54ms/step - loss: 1.5832 - accuracy: 0.7521 - val_loss: 2.3109 - val_accuracy: 0.5380\n",
            "Epoch 62/100\n",
            "190/190 [==============================] - 10s 53ms/step - loss: 1.3646 - accuracy: 0.7776 - val_loss: 2.4687 - val_accuracy: 0.5188\n",
            "Epoch 63/100\n",
            "190/190 [==============================] - 10s 53ms/step - loss: 1.4504 - accuracy: 0.7667 - val_loss: 2.5748 - val_accuracy: 0.5294\n",
            "Epoch 64/100\n",
            "190/190 [==============================] - 10s 53ms/step - loss: 1.4595 - accuracy: 0.7749 - val_loss: 2.5869 - val_accuracy: 0.5228\n",
            "Epoch 65/100\n",
            "190/190 [==============================] - 10s 53ms/step - loss: 1.5735 - accuracy: 0.7650 - val_loss: 2.6108 - val_accuracy: 0.5327\n",
            "Epoch 66/100\n",
            "190/190 [==============================] - 10s 54ms/step - loss: 1.7229 - accuracy: 0.7658 - val_loss: 2.5857 - val_accuracy: 0.5234\n",
            "Epoch 67/100\n",
            "190/190 [==============================] - 10s 54ms/step - loss: 1.4314 - accuracy: 0.7832 - val_loss: 2.3912 - val_accuracy: 0.5538\n",
            "Epoch 68/100\n",
            "190/190 [==============================] - 10s 53ms/step - loss: 1.3559 - accuracy: 0.7921 - val_loss: 2.5215 - val_accuracy: 0.5234\n",
            "Epoch 69/100\n",
            "190/190 [==============================] - 10s 53ms/step - loss: 1.4549 - accuracy: 0.8021 - val_loss: 2.5217 - val_accuracy: 0.5393\n",
            "Epoch 70/100\n",
            "190/190 [==============================] - 10s 54ms/step - loss: 1.4514 - accuracy: 0.7934 - val_loss: 2.7020 - val_accuracy: 0.5340\n",
            "Epoch 71/100\n",
            "190/190 [==============================] - 10s 53ms/step - loss: 1.4595 - accuracy: 0.7903 - val_loss: 2.5214 - val_accuracy: 0.5353\n",
            "Epoch 72/100\n",
            "190/190 [==============================] - 10s 53ms/step - loss: 1.4871 - accuracy: 0.7934 - val_loss: 2.5228 - val_accuracy: 0.5373\n",
            "Epoch 73/100\n",
            "190/190 [==============================] - 10s 54ms/step - loss: 1.7735 - accuracy: 0.7673 - val_loss: 2.4932 - val_accuracy: 0.5419\n",
            "Epoch 74/100\n",
            "190/190 [==============================] - 10s 54ms/step - loss: 1.3845 - accuracy: 0.7977 - val_loss: 2.4865 - val_accuracy: 0.5419\n",
            "Epoch 75/100\n",
            "190/190 [==============================] - 10s 53ms/step - loss: 1.4122 - accuracy: 0.8010 - val_loss: 2.5713 - val_accuracy: 0.5373\n",
            "Epoch 76/100\n",
            "190/190 [==============================] - 10s 54ms/step - loss: 1.5557 - accuracy: 0.7927 - val_loss: 2.6943 - val_accuracy: 0.5360\n",
            "Epoch 77/100\n",
            "190/190 [==============================] - 10s 54ms/step - loss: 1.5471 - accuracy: 0.8051 - val_loss: 2.6866 - val_accuracy: 0.5347\n",
            "Epoch 78/100\n",
            "190/190 [==============================] - 10s 54ms/step - loss: 1.3865 - accuracy: 0.8078 - val_loss: 2.7133 - val_accuracy: 0.5353\n",
            "Epoch 79/100\n",
            "190/190 [==============================] - 10s 53ms/step - loss: 1.3893 - accuracy: 0.8162 - val_loss: 2.6348 - val_accuracy: 0.5419\n",
            "Epoch 80/100\n",
            "190/190 [==============================] - 10s 53ms/step - loss: 1.6099 - accuracy: 0.7947 - val_loss: 2.7946 - val_accuracy: 0.5399\n",
            "Epoch 81/100\n",
            "190/190 [==============================] - 10s 53ms/step - loss: 1.6465 - accuracy: 0.7913 - val_loss: 2.7337 - val_accuracy: 0.5327\n",
            "Epoch 82/100\n",
            "190/190 [==============================] - 10s 53ms/step - loss: 1.4227 - accuracy: 0.8064 - val_loss: 2.6003 - val_accuracy: 0.5426\n",
            "Epoch 83/100\n",
            "190/190 [==============================] - 10s 54ms/step - loss: 1.3964 - accuracy: 0.8094 - val_loss: 2.6738 - val_accuracy: 0.5439\n",
            "Epoch 84/100\n",
            "190/190 [==============================] - 10s 53ms/step - loss: 14.5401 - accuracy: 0.5964 - val_loss: 64.1339 - val_accuracy: 0.1617\n",
            "Epoch 85/100\n",
            "190/190 [==============================] - 10s 53ms/step - loss: 100.1280 - accuracy: 0.1517 - val_loss: 115.4486 - val_accuracy: 0.1743\n",
            "Epoch 86/100\n",
            "190/190 [==============================] - 10s 53ms/step - loss: 122.3518 - accuracy: 0.1624 - val_loss: 124.1770 - val_accuracy: 0.1657\n",
            "Epoch 87/100\n",
            "190/190 [==============================] - 10s 54ms/step - loss: 126.1478 - accuracy: 0.1589 - val_loss: 125.3932 - val_accuracy: 0.1663\n",
            "Epoch 88/100\n",
            "190/190 [==============================] - 10s 55ms/step - loss: 124.4979 - accuracy: 0.1772 - val_loss: 122.8444 - val_accuracy: 0.1611\n",
            "Epoch 89/100\n",
            "190/190 [==============================] - 10s 54ms/step - loss: 121.4716 - accuracy: 0.1746 - val_loss: 120.0584 - val_accuracy: 0.1861\n",
            "Epoch 90/100\n",
            "190/190 [==============================] - 10s 54ms/step - loss: 119.2790 - accuracy: 0.1809 - val_loss: 118.4300 - val_accuracy: 0.2033\n",
            "Epoch 91/100\n",
            "190/190 [==============================] - 10s 54ms/step - loss: 118.0474 - accuracy: 0.1908 - val_loss: 117.2267 - val_accuracy: 0.1914\n",
            "Epoch 92/100\n",
            "190/190 [==============================] - 10s 54ms/step - loss: 116.9866 - accuracy: 0.1855 - val_loss: 116.6256 - val_accuracy: 0.1875\n",
            "Epoch 93/100\n",
            "190/190 [==============================] - 10s 55ms/step - loss: 117.0602 - accuracy: 0.1719 - val_loss: 116.6947 - val_accuracy: 0.1914\n",
            "Epoch 94/100\n",
            "190/190 [==============================] - 10s 54ms/step - loss: 116.7097 - accuracy: 0.1884 - val_loss: 116.4256 - val_accuracy: 0.1947\n",
            "Epoch 95/100\n",
            "190/190 [==============================] - 10s 54ms/step - loss: 116.2638 - accuracy: 0.1947 - val_loss: 116.4132 - val_accuracy: 0.1921\n",
            "Epoch 96/100\n",
            "190/190 [==============================] - 10s 54ms/step - loss: 116.5299 - accuracy: 0.1896 - val_loss: 116.2620 - val_accuracy: 0.1881\n",
            "Epoch 97/100\n",
            "190/190 [==============================] - 10s 54ms/step - loss: 116.1196 - accuracy: 0.1805 - val_loss: 115.9279 - val_accuracy: 0.1842\n",
            "Epoch 98/100\n",
            "190/190 [==============================] - 10s 54ms/step - loss: 115.9243 - accuracy: 0.1805 - val_loss: 115.7080 - val_accuracy: 0.1987\n",
            "Epoch 99/100\n",
            "190/190 [==============================] - 10s 54ms/step - loss: 115.5535 - accuracy: 0.1873 - val_loss: 115.3524 - val_accuracy: 0.1954\n",
            "Epoch 100/100\n",
            "190/190 [==============================] - 10s 55ms/step - loss: 115.2000 - accuracy: 0.1875 - val_loss: 115.0133 - val_accuracy: 0.1881\n"
          ]
        }
      ]
    },
    {
      "cell_type": "code",
      "metadata": {
        "id": "KUGDseYxvgfI"
      },
      "source": [
        "import matplotlib.pyplot as plt\n",
        "\n",
        "\n",
        "def plot_graphs(history, string):\n",
        "  plt.plot(history.history[string])\n",
        "  plt.plot(history.history['val_'+string])\n",
        "  plt.xlabel(\"Epochs\")\n",
        "  plt.ylabel(string)\n",
        "  plt.legend([string, 'val_'+string])\n",
        "  plt.show()"
      ],
      "execution_count": null,
      "outputs": []
    },
    {
      "cell_type": "code",
      "metadata": {
        "colab": {
          "base_uri": "https://localhost:8080/",
          "height": 541
        },
        "id": "KczB6E3r_9Qj",
        "outputId": "69970e0a-50db-4214-f0ad-cd14c0975b96"
      },
      "source": [
        "plot_graphs(history, 'accuracy')\n",
        "plot_graphs(history, 'loss')"
      ],
      "execution_count": null,
      "outputs": [
        {
          "output_type": "display_data",
          "data": {
            "image/png": "[encoded data removed]",
            "text/plain": [
              "<Figure size 432x288 with 1 Axes>"
            ]
          },
          "metadata": {
            "needs_background": "light"
          }
        },
        {
          "output_type": "display_data",
          "data": {
            "image/png": "[encoded data removed]",
            "text/plain": [
              "<Figure size 432x288 with 1 Axes>"
            ]
          },
          "metadata": {
            "needs_background": "light"
          }
        }
      ]
    }
  ]
}